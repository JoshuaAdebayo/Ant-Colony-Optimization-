{
 "cells": [
  {
   "cell_type": "markdown",
   "id": "e2fad55a",
   "metadata": {},
   "source": [
    "This notebook contains the all the ACO implention and experiments on the Brazil dataset "
   ]
  },
  {
   "cell_type": "code",
   "execution_count": 1,
   "id": "69922fe8",
   "metadata": {},
   "outputs": [],
   "source": [
    "import xml.etree.ElementTree as ET\n",
    "import random\n",
    "import matplotlib.pyplot as plt \n",
    "import pandas as pd \n",
    "import numpy as np \n",
    "import networkx as nx\n"
   ]
  },
  {
   "cell_type": "markdown",
   "id": "8f4bdae3",
   "metadata": {},
   "source": [
    "Read Brazil data "
   ]
  },
  {
   "cell_type": "code",
   "execution_count": 3,
   "metadata": {},
   "outputs": [],
   "source": [
    "tree = ET.parse('brazil58.xml')\n",
    "root = tree.getroot()\n",
    "num_vertices = len(root.findall('.//vertex'))\n",
    "costs_ = [[0.0] * num_vertices for _ in range(num_vertices)]\n",
    "\n",
    "count_vertex = 0\n",
    "for vertex in root.findall('.//vertex'):\n",
    "    source_id = count_vertex\n",
    "\n",
    "    for edge in vertex.findall('edge'):\n",
    "        target_id = int(edge.text)\n",
    "        cost = float(edge.get('cost'))\n",
    "        costs_[source_id - 1][target_id - 1] = cost  # Adjust indices since IDs start from 1\n",
    "       \n",
    "    count_vertex += 1\n",
    "    \n",
    "distances = costs_"
   ]
  },
  {
   "cell_type": "markdown",
   "id": "413dd04a",
   "metadata": {},
   "source": [
    "Code for Ant Colony Optimization (ACO)"
   ]
  },
  {
   "cell_type": "code",
   "execution_count": 6,
   "id": "209b07f4",
   "metadata": {},
   "outputs": [],
   "source": [
    "import random \n",
    "\n",
    "# Function to initialize pheromone levels on edges\n",
    "def initialize_pheromones(num_vertices):\n",
    "    return [[1.0] * num_vertices for r in range(num_vertices)]\n",
    "\n",
    "# Function to choose the next city based on pheromone levels and distances\n",
    "def choose_next_city(current_city, allowed_cities, pheromones, distances, alpha=1.0, beta=2.0):\n",
    "    allowed_cities_list = list(allowed_cities)\n",
    "    pheromone_values = [\n",
    "        pheromones[current_city][city] ** alpha * (1.0 / distances[current_city][city]) ** beta\n",
    "        for city in allowed_cities_list\n",
    "    ]\n",
    "    total = sum(pheromone_values)\n",
    "    probabilities = [value / total for value in pheromone_values]\n",
    "    chosen_city = random.choices(allowed_cities_list, probabilities)[0]\n",
    "    return chosen_city\n",
    "\n",
    "\n",
    "# Function to update pheromone levels based on ant paths\n",
    "def update_pheromones(pheromones, ant_paths, e=0.3, Q=1.0):\n",
    "    for fitness, path in ant_paths:\n",
    "        pheromone_increment = Q / fitness\n",
    "        for i in range(len(path) - 1):\n",
    "            pheromones[path[i]][path[i + 1]] = (1.0 - e) * pheromones[path[i]][path[i + 1]] + pheromone_increment\n",
    "\n",
    "# Ant Colony Optimization algorithm\n",
    "def ACO(colony_size, num_iterations, distances, alpha=1.0, beta=2.0, e=0.3, Q=1.0):\n",
    "        \n",
    "    num_vertices = len(distances)\n",
    "    pheromones = initialize_pheromones(num_vertices)\n",
    "\n",
    "    global_best_path = None\n",
    "    global_best_cost = float('inf')\n",
    "\n",
    "    for iteration in range(num_iterations):\n",
    "        ant_paths = []\n",
    "\n",
    "        for ant in range(colony_size):\n",
    "            current_city = random.randint(0, num_vertices - 1)\n",
    "            allowed_cities = set(range(num_vertices))\n",
    "            allowed_cities.remove(current_city)\n",
    "            path = [current_city]\n",
    "            fitness = 0.0\n",
    "\n",
    "            while allowed_cities:\n",
    "                next_city = choose_next_city(current_city, allowed_cities, pheromones, distances, alpha, beta)\n",
    "                fitness += distances[current_city][next_city]\n",
    "                path.append(next_city)\n",
    "                allowed_cities.remove(next_city)\n",
    "                current_city = next_city\n",
    "\n",
    "            fitness += distances[path[-1]][path[0]]  # Complete the cycle\n",
    "            ant_paths.append((fitness, path))\n",
    "\n",
    "            if fitness < global_best_cost:\n",
    "                global_best_cost = fitness\n",
    "                global_best_path = path\n",
    "\n",
    "        update_pheromones(pheromones, ant_paths, e, Q)\n",
    "\n",
    "        return global_best_path, global_best_cost\n",
    "        "
   ]
  },
  {
   "cell_type": "code",
   "execution_count": 7,
   "id": "98f1d068",
   "metadata": {},
   "outputs": [],
   "source": [
    "distances = costs_\n",
    "colony_sizes = [10, 50, 100]\n",
    "evap_rates = [0.3, 0.6, 0.9]\n",
    "num_iterations = 10000 #Will only run 10000 times\n",
    "\n",
    "# Create dictionaries to store results\n",
    "best_paths = {size: [] for size in colony_sizes}\n",
    "best_costs = {size: [] for size in colony_sizes}\n",
    "\n",
    "for rates in evap_rates:\n",
    "    for i in colony_sizes :\n",
    "        optimal_path, optimal_cost = ACO(i, num_iterations, distances, alpha=1.0, beta=2.0, e= rates, Q=1.0)\n",
    "        # Store the results in the dictionaries\n",
    "        best_paths[i].append(optimal_path)\n",
    "        best_costs[i].append(optimal_cost)\n",
    "\n",
    "index = [ 'Evaporation Rate 0.3', 'Evaporation Rate 0.6', 'Evaporation Rate 0.9']\n",
    "\n",
    "df1 = pd.DataFrame(best_costs)\n",
    "df1.set_index(pd.Index(index), inplace=True)\n",
    "df1.rename(columns={10: 'Colony_Size_10', 50: 'Colony_Size_50', 100: 'Colony_Size_100'}, inplace = True)"
   ]
  },
  {
   "cell_type": "code",
   "execution_count": 18,
   "id": "49b4e705",
   "metadata": {},
   "outputs": [
    {
     "name": "stdout",
     "output_type": "stream",
     "text": [
      "                      Colony_Size_10  Colony_Size_50  Colony_Size_100\n",
      "Evaporation Rate 0.3         49779.0         43483.0          43308.0\n",
      "Evaporation Rate 0.6         44141.0         44368.0          37980.0\n",
      "Evaporation Rate 0.9         50053.0         42917.0          43127.0\n"
     ]
    },
    {
     "data": {
      "image/png": "[encoded data removed]",
      "text/plain": [
       "<Figure size 864x576 with 1 Axes>"
      ]
     },
     "metadata": {
      "needs_background": "light"
     },
     "output_type": "display_data"
    }
   ],
   "source": [
    "print(df1)\n",
    "barWidth = 0.25\n",
    "fig = plt.subplots(figsize =(12, 8)) \n",
    "  \n",
    "# Set position of bar on X axis \n",
    "br1 = np.arange(3) \n",
    "br2 = [x + barWidth for x in br1] \n",
    "br3 = [x + barWidth for x in br2] \n",
    " \n",
    "# Make the plot\n",
    "plt.bar(br1, df1['Colony_Size_10'], color ='r', width = barWidth, \n",
    "        edgecolor ='grey', label ='Colony_Size_10') \n",
    "plt.bar(br2, df1['Colony_Size_50'], color ='g', width = barWidth, \n",
    "        edgecolor ='grey', label ='Colony_Size_50') \n",
    "plt.bar(br3, df1['Colony_Size_100'], color ='b', width = barWidth, \n",
    "        edgecolor ='grey', label ='Colony_Size_100') \n",
    " \n",
    "# Adding Xticks \n",
    "plt.xlabel('Evaporation rates', fontweight ='bold', fontsize = 15) \n",
    "plt.ylabel('Best fitness after 10000 iterations', fontweight ='bold', fontsize = 15) \n",
    "plt.xticks([r + barWidth for r in range(3)], \n",
    "        ['Evaporation Rate 0.3', 'Evaporation Rate 0.6', 'Evaporation Rate 0.9'])\n",
    "plt.title('Evaporation Rate impact on fitness different colony sizes - Brazil ') \n",
    "plt.legend()\n",
    "plt.show() "
   ]
  },
  {
   "cell_type": "markdown",
   "id": "e44002d4",
   "metadata": {},
   "source": [
    "Code for MMAS Ant Colony Optimisation"
   ]
  },
  {
   "cell_type": "code",
   "execution_count": 10,
   "id": "1543dc49",
   "metadata": {},
   "outputs": [],
   "source": [
    "def initialize_pheromones(distances, initial_pheromone=1.0):\n",
    "    pheromones = np.full_like(distances, initial_pheromone)\n",
    "    np.fill_diagonal(pheromones, 0)  # Set pheromones on the diagonal to 0\n",
    "    return pheromones\n",
    "\n",
    "def ant_colony(distances, colony_sizes, alpha, beta, rho, q):\n",
    "    pheromones = initialize_pheromones(distances)\n",
    "    best_path = None\n",
    "    fitness = float('inf')\n",
    "\n",
    "    for r in range(colony_sizes):\n",
    "        ant_path, ant_cost = construct_solution(distances, pheromones, alpha, beta)\n",
    "        if ant_cost < fitness:\n",
    "            best_path = ant_path\n",
    "            fitness = ant_cost\n",
    "\n",
    "        update_pheromones(pheromones, ant_path, ant_cost, rho, q)\n",
    "\n",
    "    return best_path, fitness\n",
    "\n",
    "def construct_solution(distances, pheromones, alpha, beta):\n",
    "    start = np.random.choice(len(distances))\n",
    "    visited = set([start])\n",
    "    path = [start]\n",
    "    cost = 0\n",
    "\n",
    "    while len(visited) < len(distances):\n",
    "        next_city = choose_next_city(distances, pheromones, path[-1], visited, alpha, beta)\n",
    "        path.append(next_city)\n",
    "        visited.add(next_city)\n",
    "        cost += distances[path[-2]][path[-1]]\n",
    "\n",
    "    cost += distances[path[-1]][path[0]]\n",
    "    return path, cost\n",
    "\n",
    "def choose_next_city(distances, pheromones, current_city, visited, alpha, beta):\n",
    "    unvisited_cities = set(range(len(distances))) - visited\n",
    "    probabilities = calculate_probabilities(distances, pheromones, current_city, unvisited_cities, alpha, beta)\n",
    "    next_city = np.random.choice(list(unvisited_cities), p=probabilities)\n",
    "    return next_city\n",
    "\n",
    "def calculate_probabilities(distances, pheromones, current_city, unvisited_cities, alpha, beta):\n",
    "    probabilities = []\n",
    "    total_pheromone = 0\n",
    "\n",
    "    for city in unvisited_cities:\n",
    "        pheromone = pheromones[current_city][city]\n",
    "        visibility = 1 / distances[current_city][city]\n",
    "        total_pheromone += (pheromone ** alpha) * (visibility ** beta)\n",
    "\n",
    "    for city in unvisited_cities:\n",
    "        pheromone = pheromones[current_city][city]\n",
    "        visibility = 1 / distances[current_city][city]\n",
    "        probability = (pheromone ** alpha) * (visibility ** beta) / total_pheromone\n",
    "        probabilities.append(probability)\n",
    "\n",
    "    return probabilities\n",
    "\n",
    "def update_pheromones(pheromones, path, cost, rho, q):\n",
    "    if cost == 0:\n",
    "        # Handle the case where the cost is zero to prevent division by zero\n",
    "        return\n",
    "\n",
    "    pheromone_deposit = q / cost\n",
    "\n",
    "    for i in range(len(path) - 1):\n",
    "        if cost != 0:\n",
    "            pheromones[path[i]][path[i + 1]] = (1 - rho) * pheromones[path[i]][path[i + 1]] + rho * pheromone_deposit\n",
    "\n",
    "    if cost != 0: \n",
    "        pheromones[path[-1]][path[0]] = (1 - rho) * pheromones[path[-1]][path[0]] + rho * pheromone_deposit\n",
    "\n",
    "\n",
    "def mmas_aco(distances, colony_sizes, num_iterations, alpha, beta, rho, q):\n",
    "    best_path = None\n",
    "    fitness = float('inf')\n",
    "\n",
    "    for _ in range(num_iterations):\n",
    "        path, cost = ant_colony(distances, colony_sizes, alpha, beta, rho, q)\n",
    "        if cost < fitness:\n",
    "            best_path = path\n",
    "            fitness = cost\n",
    "\n",
    "    return best_path, fitness"
   ]
  },
  {
   "cell_type": "markdown",
   "id": "778f8f6f",
   "metadata": {},
   "source": [
    "MMAS will take ~2.5 hours to run "
   ]
  },
  {
   "cell_type": "code",
   "execution_count": 11,
   "id": "b930ef80",
   "metadata": {},
   "outputs": [],
   "source": [
    "colony_sizes = [10, 50, 100]\n",
    "num_iterations = 10000\n",
    "\n",
    "best_paths_mms = {size: [] for size in colony_sizes}\n",
    "best_costs_mms = {size: [] for size in colony_sizes}\n",
    "\n",
    "\n",
    "for i in colony_sizes :\n",
    "    optimal_path, optimal_cost = mmas_aco(distances, i, num_iterations, alpha=1.0, beta=2.0,rho = 0.3, q=1)\n",
    "    # Store the best results in the dictionaries\n",
    "    best_paths_mms[i].append(optimal_path)\n",
    "    best_costs_mms[i].append(optimal_cost)\n",
    "\n",
    "index = [ 'Evaporation Rate 0.3', 'Evaporation Rate 0.6', 'Evaporation Rate 0.9']\n",
    "\n"
   ]
  },
  {
   "cell_type": "code",
   "execution_count": 12,
   "id": "8fe9a7ef",
   "metadata": {},
   "outputs": [],
   "source": [
    "key_changes = {10: 'Colony_Size_10', 50: 'Colony_Size_50', 100: 'Colony_Size_100'}\n",
    "\n",
    "# Create a new dictionary with updated keys\n",
    "best_costs_mms = {key_changes.get(k, k): v for k, v in best_costs_mms.items()}\n",
    "\n",
    "original_2d_list = best_costs_mms.values()\n",
    "\n",
    "# Flatten the 2D list into a 1D list using list comprehension\n",
    "flat_list = [value for sublist in original_2d_list for value in sublist]\n",
    "\n",
    "value_changes = {'Colony_Size_10':flat_list[0],'Colony_Size_50': flat_list[1],'Colony_Size_100': flat_list[2]}\n",
    "\n",
    "# Update values in the original dictionary\n",
    "for key, new_value in value_changes.items():\n",
    "    if key in best_costs_mms:\n",
    "        best_costs_mms[key] = new_value\n",
    "\n",
    "data = best_costs_mms"
   ]
  },
  {
   "cell_type": "code",
   "execution_count": 19,
   "id": "3788e529",
   "metadata": {},
   "outputs": [
    {
     "name": "stdout",
     "output_type": "stream",
     "text": [
      "{'Colony_Size_10': 34992.0, 'Colony_Size_50': 34259.0, 'Colony_Size_100': 36116.0}\n"
     ]
    },
    {
     "data": {
      "image/png": "[encoded data removed]",
      "text/plain": [
       "<Figure size 720x360 with 1 Axes>"
      ]
     },
     "metadata": {
      "needs_background": "light"
     },
     "output_type": "display_data"
    }
   ],
   "source": [
    "print(data)\n",
    "\n",
    "courses = list(data.keys())\n",
    "values = list(data.values())\n",
    "  \n",
    "fig = plt.figure(figsize = (10, 5))\n",
    " \n",
    "# creating the bar plot\n",
    "plt.bar(courses, values, color ='maroon', \n",
    "        width = 0.4)\n",
    "\n",
    "for i in ax.patches:\n",
    "    plt.text(i.get_width()+0.2, i.get_y()+0.5, \n",
    "             str(round((i.get_width()), 2)),\n",
    "             fontsize = 10, fontweight ='bold',\n",
    "             color ='grey') \n",
    "    \n",
    "plt.xlabel(\"Colony size\")\n",
    "plt.ylabel(\"Lowest fitness after 10,000 iterations\")\n",
    "plt.title(\"MMAS - Brazil\")\n",
    "plt.show()"
   ]
  },
  {
   "cell_type": "markdown",
   "id": "22204866",
   "metadata": {},
   "source": [
    "Elitist Ant Colony Optimization "
   ]
  },
  {
   "cell_type": "code",
   "execution_count": 14,
   "id": "8679f009",
   "metadata": {},
   "outputs": [],
   "source": [
    "def initialize_pheromones(distnaces, initial_pheromone=1.0):\n",
    "    pheromones = np.full_like(distances, initial_pheromone)\n",
    "    np.fill_diagonal(pheromones, 0)  # Set pheromones on the diagonal to 0\n",
    "    return pheromones\n",
    "\n",
    "def E_ACO(distances, colony_size, alpha, beta, rho, q, elite_percentage):\n",
    "    pheromones = initialize_pheromones(distances)\n",
    "    elite_ants = int(elite_percentage * colony_size)\n",
    "\n",
    "    best_path = None\n",
    "    fitness = float('inf')\n",
    "\n",
    "    for iteration in range(num_iterations):\n",
    "        ant_path, ant_cost = construct_solution(distances, pheromones, alpha, beta)\n",
    "        if ant_cost < fitness:\n",
    "            best_path = ant_path\n",
    "            fitness = ant_cost\n",
    "\n",
    "        update_pheromones(pheromones, ant_path, ant_cost, rho, q)\n",
    "\n",
    "        # Apply elitism only if there are elite ants\n",
    "        if elite_ants > 0:\n",
    "            elite_paths = get_elite_paths(distances, pheromones, elite_ants, alpha, beta)\n",
    "            if elite_paths:\n",
    "                update_pheromones(pheromones, elite_paths, 0, rho, q)\n",
    "\n",
    "    return best_path, fitness\n",
    "\n",
    "def get_elite_paths(distances, pheromones, elite_ants, alpha, beta):\n",
    "    elite_paths = []\n",
    "    for elite in range(elite_ants):\n",
    "        ant_path, _ = construct_solution(distances, pheromones, alpha, beta)\n",
    "        elite_paths.append(ant_path)\n",
    "    return elite_paths\n",
    "\n",
    "# The rest of the code is the same as the MMAS ACO implementation"
   ]
  },
  {
   "cell_type": "markdown",
   "id": "fde13abc",
   "metadata": {},
   "source": [
    "Elite ACO takes ~1.8 hours to run"
   ]
  },
  {
   "cell_type": "code",
   "execution_count": 15,
   "id": "3587b15e",
   "metadata": {},
   "outputs": [],
   "source": [
    "num_ants = [10, 50, 100]\n",
    "d_num_ants3 = {\"10\": [], \"50\": [], \"100\": []}\n",
    "elite_percentage = [0.1,0.3,0.5]\n",
    "num_iterations = 10000\n",
    "\n",
    "\n",
    "for e in elite_percentage:\n",
    "    for i in num_ants:\n",
    "        best_path, best_cost = E_ACO(distances, i, alpha=1.0, beta=2.0, rho=0.3, q=1, elite_percentage= e)\n",
    "        d_num_ants3[str(i)].append(best_cost)\n",
    "\n",
    "data3 = d_num_ants3"
   ]
  },
  {
   "cell_type": "code",
   "execution_count": 16,
   "id": "0ab2a850",
   "metadata": {},
   "outputs": [],
   "source": [
    "index_e = ['Elite percantage 0.1','Elite percantage 0.3', 'Elite percantage 0.5']\n",
    "\n",
    "df3 = pd.DataFrame(data3)\n",
    "df3.set_index(pd.Index(index_e), inplace=True)\n",
    "df3.rename(columns={'10': 'Colony_Size_10', '50': 'Colony_Size_50', '100': 'Colony_Size_100'}, inplace = True)"
   ]
  },
  {
   "cell_type": "code",
   "execution_count": 20,
   "id": "f630c8ee",
   "metadata": {},
   "outputs": [
    {
     "name": "stdout",
     "output_type": "stream",
     "text": [
      "                      Colony_Size_10  Colony_Size_50  Colony_Size_100\n",
      "Elite percantage 0.1         36222.0         36546.0          35340.0\n",
      "Elite percantage 0.3         37041.0         35418.0          36989.0\n",
      "Elite percantage 0.5         34351.0         37901.0          36885.0\n"
     ]
    },
    {
     "data": {
      "image/png": "[encoded data removed]",
      "text/plain": [
       "<Figure size 864x576 with 1 Axes>"
      ]
     },
     "metadata": {
      "needs_background": "light"
     },
     "output_type": "display_data"
    }
   ],
   "source": [
    "print(df3)\n",
    "\n",
    "barWidth = 0.25\n",
    "fig = plt.subplots(figsize =(12, 8)) \n",
    "  \n",
    "# Set position of bar on X axis \n",
    "br1 = np.arange(3) \n",
    "br2 = [x + barWidth for x in br1] \n",
    "br3 = [x + barWidth for x in br2] \n",
    " \n",
    "# Make the plot\n",
    "plt.bar(br1, df3['Colony_Size_10'], color ='r', width = barWidth, \n",
    "        edgecolor ='grey', label ='Colony_Size_10') \n",
    "plt.bar(br2, df3['Colony_Size_50'], color ='g', width = barWidth, \n",
    "        edgecolor ='grey', label ='Colony_Size_50') \n",
    "plt.bar(br3, df3['Colony_Size_100'], color ='b', width = barWidth, \n",
    "        edgecolor ='grey', label ='Colony_Size_100') \n",
    " \n",
    "# Adding Xticks \n",
    "plt.xlabel('Elite Ant Percentage', fontweight ='bold', fontsize = 15) \n",
    "plt.ylabel('Best fitness after 10000 iterations', fontweight ='bold', fontsize = 15) \n",
    "plt.xticks([r + barWidth for r in range(3)], \n",
    "        ['Elite Ant  0.1', 'Elite Ant 0.3', 'Elite Ant 0.5'])\n",
    "plt.title('Elite Ant Percentage impact on fitness different colony sizes - Brazil ') \n",
    "plt.legend()\n",
    "plt.show() "
   ]
  }
 ],
 "metadata": {
  "kernelspec": {
   "display_name": "Python 3",
   "language": "python",
   "name": "python3"
  },
  "language_info": {
   "codemirror_mode": {
    "name": "ipython",
    "version": 3
   },
   "file_extension": ".py",
   "mimetype": "text/x-python",
   "name": "python",
   "nbconvert_exporter": "python",
   "pygments_lexer": "ipython3",
   "version": "3.10.0"
  }
 },
 "nbformat": 4,
 "nbformat_minor": 5
}
